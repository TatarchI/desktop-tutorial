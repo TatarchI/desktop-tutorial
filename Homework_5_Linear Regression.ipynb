{
 "cells": [
  {
   "cell_type": "markdown",
   "metadata": {},
   "source": [
    "# Import libraries"
   ]
  },
  {
   "cell_type": "code",
   "execution_count": 1,
   "metadata": {},
   "outputs": [],
   "source": [
    "import numpy as np\n",
    "import matplotlib.pyplot as plt\n",
    "from sklearn.linear_model import LinearRegression\n",
    "from scipy.optimize import minimize\n",
    "import seaborn as sns\n",
    "sns.set()"
   ]
  },
  {
   "cell_type": "markdown",
   "metadata": {},
   "source": [
    "# 1st Stage - Linear Regression with one variable"
   ]
  },
  {
   "cell_type": "markdown",
   "metadata": {},
   "source": [
    "## Import data from attached scrinshot"
   ]
  },
  {
   "cell_type": "code",
   "execution_count": 2,
   "metadata": {},
   "outputs": [],
   "source": [
    "X = np.array([8, 9, 8, 7])\n",
    "y = np.array([5, 9, 7, 3])"
   ]
  },
  {
   "cell_type": "markdown",
   "metadata": {},
   "source": [
    "## Visualize our basic data"
   ]
  },
  {
   "cell_type": "code",
   "execution_count": 3,
   "metadata": {},
   "outputs": [
    {
     "data": {
      "image/png": "[encoded data removed]",
      "text/plain": [
       "<Figure size 432x288 with 1 Axes>"
      ]
     },
     "metadata": {
      "needs_background": "light"
     },
     "output_type": "display_data"
    }
   ],
   "source": [
    "plt.scatter(X, y, color = 'red')\n",
    "plt.title('Who did the homework?', fontsize = 20)\n",
    "plt.xlabel('Visit Lecture', fontsize = 14)\n",
    "plt.ylabel('Made Homework', fontsize = 14)\n",
    "plt.show()"
   ]
  },
  {
   "cell_type": "markdown",
   "metadata": {},
   "source": [
    "## Linear regression with scipy.optimize.minimize (manually method)"
   ]
  },
  {
   "cell_type": "code",
   "execution_count": 4,
   "metadata": {},
   "outputs": [
    {
     "data": {
      "text/plain": [
       "array([-18.00002874,   3.00000475])"
      ]
     },
     "execution_count": 4,
     "metadata": {},
     "output_type": "execute_result"
    }
   ],
   "source": [
    "obj_RMSE = lambda k: sum(((k[1] * X + k[0] - y) ** 2) / len(X))\n",
    "obj_RMSE_min = minimize(obj_RMSE, [0,0], method='nelder-mead')\n",
    "obj_RMSE_min.x"
   ]
  },
  {
   "cell_type": "code",
   "execution_count": 5,
   "metadata": {},
   "outputs": [
    {
     "data": {
      "text/plain": [
       "12.000018772071485"
      ]
     },
     "execution_count": 5,
     "metadata": {},
     "output_type": "execute_result"
    }
   ],
   "source": [
    "# linear regression equation = 3*x - 18\n",
    "hilel_group = 10\n",
    "obj_RMSE_min.x[1] * hilel_group + obj_RMSE_min.x[0]"
   ]
  },
  {
   "cell_type": "code",
   "execution_count": 6,
   "metadata": {},
   "outputs": [],
   "source": [
    "#We got the result of 12 complete homework assignments with a total of 10 students, which is, of course, incorrect. \n",
    "#The main reason for this is a very small and unrepresentative sample of data."
   ]
  },
  {
   "cell_type": "code",
   "execution_count": 7,
   "metadata": {},
   "outputs": [
    {
     "data": {
      "text/plain": [
       "[6.000009270156873, 9.000014021114179, 6.000009270156873, 3.0000045191995675]"
      ]
     },
     "execution_count": 7,
     "metadata": {},
     "output_type": "execute_result"
    }
   ],
   "source": [
    "y_pred1 = [obj_RMSE_min.x[1] * i + obj_RMSE_min.x[0] for i in X]\n",
    "y_pred1"
   ]
  },
  {
   "cell_type": "markdown",
   "metadata": {},
   "source": [
    "## Linear Regression with Sklearn"
   ]
  },
  {
   "cell_type": "code",
   "execution_count": 8,
   "metadata": {},
   "outputs": [
    {
     "data": {
      "text/plain": [
       "LinearRegression()"
      ]
     },
     "execution_count": 8,
     "metadata": {},
     "output_type": "execute_result"
    }
   ],
   "source": [
    "regressor = LinearRegression()\n",
    "regressor.fit(X.reshape(-1,1),y)"
   ]
  },
  {
   "cell_type": "code",
   "execution_count": 9,
   "metadata": {},
   "outputs": [
    {
     "name": "stdout",
     "output_type": "stream",
     "text": [
      "[[6. 5.]\n",
      " [9. 9.]\n",
      " [6. 7.]\n",
      " [3. 3.]]\n"
     ]
    }
   ],
   "source": [
    "y_pred2 = regressor.predict(X.reshape(-1,1))\n",
    "print(np.concatenate((y_pred2.reshape(len(y_pred2),1), y.reshape(len(y),1)),1))"
   ]
  },
  {
   "cell_type": "code",
   "execution_count": 10,
   "metadata": {},
   "outputs": [
    {
     "data": {
      "text/plain": [
       "0.9"
      ]
     },
     "execution_count": 10,
     "metadata": {},
     "output_type": "execute_result"
    }
   ],
   "source": [
    "from sklearn.metrics import r2_score\n",
    "r2_score(y, y_pred2)"
   ]
  },
  {
   "cell_type": "code",
   "execution_count": 11,
   "metadata": {},
   "outputs": [],
   "source": [
    "#The accuracy of the model came out quite high (about 90%), \n",
    "#but with such a small dataset, you should definitely not rely on it \n",
    "#(in future we will observe large errors on many test datasets)"
   ]
  },
  {
   "cell_type": "code",
   "execution_count": 12,
   "metadata": {},
   "outputs": [
    {
     "data": {
      "text/plain": [
       "array([12.])"
      ]
     },
     "execution_count": 12,
     "metadata": {},
     "output_type": "execute_result"
    }
   ],
   "source": [
    "X_check = np.array([10])\n",
    "y_check = regressor.predict(X_check.reshape(-1,1))\n",
    "y_check"
   ]
  },
  {
   "cell_type": "code",
   "execution_count": 13,
   "metadata": {},
   "outputs": [],
   "source": [
    "#Target value is similar to the first method"
   ]
  },
  {
   "cell_type": "markdown",
   "metadata": {},
   "source": [
    "## Visualize both type of Linear Regression"
   ]
  },
  {
   "cell_type": "code",
   "execution_count": 14,
   "metadata": {},
   "outputs": [
    {
     "data": {
      "image/png": "[encoded data removed]",
      "text/plain": [
       "<Figure size 432x288 with 1 Axes>"
      ]
     },
     "metadata": {
      "needs_background": "light"
     },
     "output_type": "display_data"
    },
    {
     "data": {
      "image/png": "[encoded data removed]",
      "text/plain": [
       "<Figure size 432x288 with 1 Axes>"
      ]
     },
     "metadata": {
      "needs_background": "light"
     },
     "output_type": "display_data"
    }
   ],
   "source": [
    "# Visualize Linear regression with scipy.optimize.minimize\n",
    "plt.scatter(X, y, color = \"red\")\n",
    "plt.title(\"Linear regression with scipy.optimize.minimize\", fontsize = 20)\n",
    "plt.plot(X, y_pred1, color = \"green\")\n",
    "plt.xlabel(\"Visited Lessons\", fontsize = 14)\n",
    "plt.ylabel(\"Homework done\", fontsize = 14)\n",
    "plt.show()\n",
    "\n",
    "# Visualize Linear regression with Sklearn\n",
    "plt.scatter(X, y, color = \"red\")\n",
    "plt.title(\"Linear regression with scipy.optimize.minimize\", fontsize = 20)\n",
    "plt.plot(X, y_pred2, color = \"green\")\n",
    "plt.xlabel(\"Visited Lessons\", fontsize = 14)\n",
    "plt.ylabel(\"Homework done\", fontsize = 14)\n",
    "plt.show()"
   ]
  },
  {
   "cell_type": "code",
   "execution_count": 15,
   "metadata": {},
   "outputs": [],
   "source": [
    "#Linear regressions plots are almost identical"
   ]
  },
  {
   "cell_type": "markdown",
   "metadata": {},
   "source": [
    "## Ridge Linear Regression with different alpha"
   ]
  },
  {
   "cell_type": "code",
   "execution_count": 16,
   "metadata": {},
   "outputs": [
    {
     "name": "stdout",
     "output_type": "stream",
     "text": [
      "0.8999777233236801\n",
      "0.8979591836734694\n",
      "0.8\n",
      "0.5759999999999998\n",
      "0.4408163265306121\n",
      "0.275\n"
     ]
    },
    {
     "data": {
      "image/png": "[encoded data removed]",
      "text/plain": [
       "<Figure size 432x288 with 1 Axes>"
      ]
     },
     "metadata": {
      "needs_background": "light"
     },
     "output_type": "display_data"
    }
   ],
   "source": [
    "from sklearn.linear_model import Ridge\n",
    "plt.scatter(X, y)\n",
    "for i in [0.01, 0.1, 1, 3, 5, 10]:\n",
    "    regressor_alpha_ridge = Ridge(alpha=i)\n",
    "    regressor_alpha_ridge.fit(X.reshape(-1,1),y)\n",
    "    plt.plot(X, [regressor_alpha_ridge.coef_ * i + regressor_alpha_ridge.intercept_ for i in X], label = i)\n",
    "    print(regressor_alpha_ridge.score(X.reshape(-1,1), y))\n",
    "plt.xlabel(\"Visited lessons\")\n",
    "plt.ylabel(\"Made Homework\")\n",
    "plt.legend()\n",
    "plt.show()"
   ]
  },
  {
   "cell_type": "markdown",
   "metadata": {},
   "source": [
    "## Lasso Linear Regression with different alpha"
   ]
  },
  {
   "cell_type": "code",
   "execution_count": 17,
   "metadata": {},
   "outputs": [
    {
     "name": "stdout",
     "output_type": "stream",
     "text": [
      "0.89996\n",
      "0.896\n",
      "0.8\n",
      "0.5\n",
      "0.0\n"
     ]
    },
    {
     "data": {
      "image/png": "[encoded data removed]",
      "text/plain": [
       "<Figure size 432x288 with 1 Axes>"
      ]
     },
     "metadata": {
      "needs_background": "light"
     },
     "output_type": "display_data"
    }
   ],
   "source": [
    "from sklearn.linear_model import Lasso\n",
    "plt.scatter(X, y)\n",
    "for i in [0.01, 0.1, 0.5, 1, 1.5]:\n",
    "    regressor_alpha_lasso = Lasso(alpha=i)\n",
    "    regressor_alpha_lasso.fit(X.reshape(-1,1),y)\n",
    "    plt.plot(X, [regressor_alpha_lasso.coef_ * i + regressor_alpha_lasso.intercept_ for i in X], label = i)\n",
    "    print(regressor_alpha_lasso.score(X.reshape(-1,1), y))\n",
    "plt.xlabel(\"Visited lessons\")\n",
    "plt.ylabel(\"Made Homework\")\n",
    "plt.legend()\n",
    "plt.show()"
   ]
  },
  {
   "cell_type": "code",
   "execution_count": 18,
   "metadata": {},
   "outputs": [],
   "source": [
    "# The key difference between Classical Linear Regression and Ridge-Lasso Regression \n",
    "# is in how they assign penalty to the coefficients:\n",
    "\n",
    "# Ridge Regression: Performs L2 regularization, i.e. adds penalty equivalent to square of the magnitude of coefficients\n",
    "# Minimization objective = LS Obj + α * (sum of square of coefficients)\n",
    "\n",
    "# Lasso Regression: Performs L1 regularization, i.e. adds penalty equivalent to absolute value of the magnitude of coefficients\n",
    "# Minimization objective = LS Obj + α * (sum of absolute value of coefficients)\n",
    "\n",
    "# Note that here LS Obj refers to ‘least squares objective’, i.e. the linear regression objective without regularization.\n",
    "\n",
    "# The major advantage of ridge regression is coefficient shrinkage and reducing model complexity.\n",
    "# Along with shrinking coefficients, lasso performs feature selection as well. \n",
    "# Some of the coefficients become exactly zero, which is equivalent to the particular feature being excluded from the model.\n",
    "\n",
    "# Ridge: It is majorly used to prevent overfitting. Since it includes all the features, \n",
    "# it is not very useful in case of exorbitantly high #features, say in millions, as it will pose computational challenges.\n",
    "\n",
    "# Lasso: Since it provides sparse solutions, it is generally the model of choice (or some variant of this concept) \n",
    "# for modelling cases where the #features are in millions or more. \n",
    "# In such a case, getting a sparse solution is of great computational advantage as the features with zero coefficients can simply be ignored.\n"
   ]
  },
  {
   "cell_type": "markdown",
   "metadata": {},
   "source": [
    "# 2nd Stage - Linear Regression with multiple variables"
   ]
  },
  {
   "cell_type": "markdown",
   "metadata": {},
   "source": [
    "## Import  data"
   ]
  },
  {
   "cell_type": "code",
   "execution_count": 19,
   "metadata": {},
   "outputs": [],
   "source": [
    "X2 = np.array([[8, 9, 8, 7], [0, 1, 1, 2]])\n",
    "y2 = np.array([5, 9, 7, 3])\n",
    "# [0, 1, 1, 2] - it is addition variable - lessons complexity + время на адаптацию как то так прописать\n",
    "# про сложность прописать"
   ]
  },
  {
   "cell_type": "markdown",
   "metadata": {},
   "source": [
    "## Multiple Linear regression with scipy.optimize.minimize (manually method)"
   ]
  },
  {
   "cell_type": "code",
   "execution_count": 20,
   "metadata": {},
   "outputs": [
    {
     "data": {
      "text/plain": [
       "array([-21.33332373,   3.3333322 ,   0.66666613])"
      ]
     },
     "execution_count": 20,
     "metadata": {},
     "output_type": "execute_result"
    }
   ],
   "source": [
    "obj_RMSE2 = lambda m: sum(((m[1] * X2[0] + m[2] * X2[1] + m[0] - y2) ** 2) / len(X2))\n",
    "obj_RMSE_min2 = minimize(obj_RMSE2, [0,0,0])\n",
    "obj_RMSE_min2.x"
   ]
  },
  {
   "cell_type": "code",
   "execution_count": 21,
   "metadata": {},
   "outputs": [
    {
     "data": {
      "text/plain": [
       "12.666664378412396"
      ]
     },
     "execution_count": 21,
     "metadata": {},
     "output_type": "execute_result"
    }
   ],
   "source": [
    "# linear regression equation = 3.33*x1 + 0.67*x2 - 21\n",
    "# Class attendance is a more significant variable than class difficulty (3.33 > 0.67)\n",
    "hilel_group2, complexity = 10 , 1\n",
    "obj_RMSE_min2.x[1] * hilel_group2 + obj_RMSE_min2.x[2] * complexity + obj_RMSE_min2.x[0]"
   ]
  },
  {
   "cell_type": "code",
   "execution_count": 22,
   "metadata": {},
   "outputs": [],
   "source": [
    "# We got a result almost the same as with one variable - 13 complete homework assignments with 10 students, which, of course, is not true.\n",
    "# The main reason for this is the same - a very small and unrepresentative sample of data.\n",
    "# Inclusion of an additional variable (difficulty) did not have a significant impact on the result"
   ]
  },
  {
   "cell_type": "markdown",
   "metadata": {},
   "source": [
    "## Multiple Linear Regression with Sklearn"
   ]
  },
  {
   "cell_type": "code",
   "execution_count": 23,
   "metadata": {},
   "outputs": [],
   "source": [
    "X3 = np.array([[8, 9, 8, 7], [0, 1, 1, 2]])\n",
    "y3 = np.array([5, 9, 7, 3])"
   ]
  },
  {
   "cell_type": "code",
   "execution_count": 24,
   "metadata": {},
   "outputs": [
    {
     "data": {
      "text/plain": [
       "array([[8, 9],\n",
       "       [8, 7],\n",
       "       [0, 1],\n",
       "       [1, 2]])"
      ]
     },
     "execution_count": 24,
     "metadata": {},
     "output_type": "execute_result"
    }
   ],
   "source": [
    "X3.reshape(4,2)"
   ]
  },
  {
   "cell_type": "code",
   "execution_count": 25,
   "metadata": {},
   "outputs": [
    {
     "data": {
      "text/plain": [
       "LinearRegression()"
      ]
     },
     "execution_count": 25,
     "metadata": {},
     "output_type": "execute_result"
    }
   ],
   "source": [
    "regressor_multiple = LinearRegression()\n",
    "regressor_multiple.fit(X3.reshape(4,2), y3)"
   ]
  },
  {
   "cell_type": "code",
   "execution_count": 26,
   "metadata": {},
   "outputs": [
    {
     "name": "stdout",
     "output_type": "stream",
     "text": [
      "[[4.73684211 5.        ]\n",
      " [9.         9.        ]\n",
      " [5.15789474 7.        ]\n",
      " [5.10526316 3.        ]]\n"
     ]
    }
   ],
   "source": [
    "y_pred3 = regressor_multiple.predict(X3.reshape(4,2))\n",
    "print(np.concatenate((y_pred3.reshape(len(y_pred3),1), y3.reshape(len(y3),1)),1))"
   ]
  },
  {
   "cell_type": "code",
   "execution_count": 27,
   "metadata": {},
   "outputs": [
    {
     "data": {
      "text/plain": [
       "0.6052631578947367"
      ]
     },
     "execution_count": 27,
     "metadata": {},
     "output_type": "execute_result"
    }
   ],
   "source": [
    "r2_score(y3, y_pred3)"
   ]
  },
  {
   "cell_type": "code",
   "execution_count": 28,
   "metadata": {},
   "outputs": [],
   "source": [
    "#The accuracy of the model has decreased to 60%. The main reason is the very small dataset to train the model to understand \n",
    "#the true relationships between the selected variables and the target."
   ]
  },
  {
   "cell_type": "markdown",
   "metadata": {},
   "source": [
    "## Ridge Multiple Linear Regression with different alpha"
   ]
  },
  {
   "cell_type": "code",
   "execution_count": 29,
   "metadata": {},
   "outputs": [
    {
     "name": "stdout",
     "output_type": "stream",
     "text": [
      "0.6052248977491711\n",
      "0.6019740867391757\n",
      "0.49513624799321543\n",
      "0.3408679593721142\n",
      "0.27145932437678266\n",
      "0.1993265542977184\n"
     ]
    }
   ],
   "source": [
    "for i in [0.01, 0.1, 1, 3, 5, 10]:\n",
    "    regressor_multiple_alpha_ridge = Ridge(alpha=i)\n",
    "    regressor_multiple_alpha_ridge.fit(X3.reshape(4,2),y3)\n",
    "    y_pred3_ridge = regressor_multiple_alpha_ridge.predict(X3.reshape(4,2))\n",
    "    print(r2_score(y3, y_pred3_ridge))"
   ]
  },
  {
   "cell_type": "code",
   "execution_count": 30,
   "metadata": {},
   "outputs": [],
   "source": [
    "#The accuracy of the models has decreased. Conclusions are similar to those \n",
    "#for conventional linear regression with two variables."
   ]
  },
  {
   "cell_type": "markdown",
   "metadata": {},
   "source": [
    "## Lasso Multiple Linear Regression with different alpha"
   ]
  },
  {
   "cell_type": "code",
   "execution_count": 31,
   "metadata": {},
   "outputs": [
    {
     "name": "stdout",
     "output_type": "stream",
     "text": [
      "0.6051209196265965\n",
      "0.5911919226448412\n",
      "0.25405253201594946\n",
      "0.13480176211453743\n",
      "0.11718061674008806\n"
     ]
    }
   ],
   "source": [
    "for i in [0.01, 0.1, 0.5, 1, 1.5]:\n",
    "    regressor_multiple_alpha_lasso = Lasso(alpha=i)\n",
    "    regressor_multiple_alpha_lasso.fit(X3.reshape(4,2),y3)\n",
    "    y_pred3_lasso = regressor_multiple_alpha_lasso.predict(X3.reshape(4,2))\n",
    "    print(r2_score(y3, y_pred3_lasso))"
   ]
  },
  {
   "cell_type": "code",
   "execution_count": 32,
   "metadata": {},
   "outputs": [],
   "source": [
    "#The accuracy of the models has decreased. Conclusions are similar to those \n",
    "#for conventional linear regression with two variables."
   ]
  },
  {
   "cell_type": "markdown",
   "metadata": {},
   "source": [
    "# 3rd Stage - Optional task - Function Algebra"
   ]
  },
  {
   "cell_type": "code",
   "execution_count": 34,
   "metadata": {},
   "outputs": [],
   "source": [
    "class Function: \n",
    "\n",
    "    def __init__(self, f, df):\n",
    "        self.f = f\n",
    "        self.df = df\n",
    "        \n",
    "    def __call__(self, x, grad = False):\n",
    "        if grad:\n",
    "            return self.df(x)\n",
    "        else:\n",
    "            return self.f(x)\n",
    "        \n",
    "    def __add__(self, another):\n",
    "        return Function(\n",
    "            lambda x: self.f(x) + another.f(x),\n",
    "            lambda x: self.df(x) + another.df(x))\n",
    "    \n",
    "    def __sub__(self, another):\n",
    "        return Function(\n",
    "            lambda x: self.f(x) - another.f(x),\n",
    "            lambda x: self.df(x) - another.df(x))\n",
    "    \n",
    "    def __mul__(self, another):\n",
    "        return Function(\n",
    "            lambda x: self.f(x) * another.f(x),\n",
    "            lambda x: self.f(x) * another.df(x) + self.df(x) * another.f(x))\n",
    "    \n",
    "    def __truediv__(self, another):\n",
    "        return Function(\n",
    "            lambda x: self.f(x) / another.f(x),\n",
    "            lambda x: self.df(x) / another.f(x) - self.f(x) * another.df(x) / another.f(x)**2)\n",
    "    \n",
    "    def __matmul__(self, another):\n",
    "        return Function(\n",
    "            lambda x: self.f(another.f(x)),\n",
    "            lambda x: self.df(another.f(x)) * another.df(x))"
   ]
  },
  {
   "cell_type": "code",
   "execution_count": null,
   "metadata": {},
   "outputs": [],
   "source": []
  }
 ],
 "metadata": {
  "kernelspec": {
   "display_name": "Python 3",
   "language": "python",
   "name": "python3"
  },
  "language_info": {
   "codemirror_mode": {
    "name": "ipython",
    "version": 3
   },
   "file_extension": ".py",
   "mimetype": "text/x-python",
   "name": "python",
   "nbconvert_exporter": "python",
   "pygments_lexer": "ipython3",
   "version": "3.7.4"
  }
 },
 "nbformat": 4,
 "nbformat_minor": 2
}
